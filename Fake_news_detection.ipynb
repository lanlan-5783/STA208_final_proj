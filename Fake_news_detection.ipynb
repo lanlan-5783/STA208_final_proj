{
  "nbformat": 4,
  "nbformat_minor": 0,
  "metadata": {
    "colab": {
      "name": "Fake news detection.ipynb",
      "provenance": [],
      "collapsed_sections": []
    },
    "kernelspec": {
      "name": "python3",
      "display_name": "Python 3"
    },
    "language_info": {
      "name": "python"
    }
  },
  "cells": [
    {
      "cell_type": "code",
      "source": [
        "from google.colab import drive\n",
        "drive.mount(\"/content/drive\")"
      ],
      "metadata": {
        "colab": {
          "base_uri": "https://localhost:8080/"
        },
        "id": "yL2BKJOVGUhE",
        "outputId": "5703cddd-da21-4068-8d22-1ec16ebbd58e"
      },
      "execution_count": 1,
      "outputs": [
        {
          "output_type": "stream",
          "name": "stdout",
          "text": [
            "Mounted at /content/drive\n"
          ]
        }
      ]
    },
    {
      "cell_type": "code",
      "execution_count": 7,
      "metadata": {
        "id": "3n_t5Qr_8cFm",
        "colab": {
          "base_uri": "https://localhost:8080/"
        },
        "outputId": "994e4278-b190-4106-d089-83ed6bd4f501"
      },
      "outputs": [
        {
          "output_type": "stream",
          "name": "stdout",
          "text": [
            "[nltk_data] Downloading package punkt to /root/nltk_data...\n",
            "[nltk_data]   Unzipping tokenizers/punkt.zip.\n",
            "[nltk_data] Downloading package wordnet to /root/nltk_data...\n",
            "[nltk_data]   Unzipping corpora/wordnet.zip.\n",
            "[nltk_data] Downloading package stopwords to /root/nltk_data...\n",
            "[nltk_data]   Unzipping corpora/stopwords.zip.\n"
          ]
        }
      ],
      "source": [
        "import numpy as np\n",
        "import pandas as pd\n",
        "import nltk\n",
        "nltk.download(\"punkt\")\n",
        "nltk.download(\"wordnet\")\n",
        "nltk.download(\"stopwords\")\n",
        "import re\n",
        "from nltk.tokenize import word_tokenize\n",
        "from nltk.stem import WordNetLemmatizer\n",
        "from nltk.corpus import stopwords  "
      ]
    },
    {
      "cell_type": "code",
      "source": [
        "Fake_news = pd.read_csv(\"/content/drive/My Drive/Colab Notebooks/Fake News Detection/Fake.csv\")\n",
        "True_news = pd.read_csv(\"/content/drive/My Drive/Colab Notebooks/Fake News Detection/True.csv\")"
      ],
      "metadata": {
        "id": "cx755Rtg8hVZ"
      },
      "execution_count": 3,
      "outputs": []
    },
    {
      "cell_type": "code",
      "source": [
        "# Fake = 1; True = 0\n",
        "Fake_news[\"label\"] = 1\n",
        "True_news[\"label\"] = 0"
      ],
      "metadata": {
        "id": "-poTC-fxrFXA"
      },
      "execution_count": 4,
      "outputs": []
    },
    {
      "cell_type": "code",
      "source": [
        "News = Fake_news.copy()\n",
        "News = News.append(True_news)\n",
        "News = News[[\"title\",\"label\"]]"
      ],
      "metadata": {
        "id": "CIbqJBWV9C4l"
      },
      "execution_count": 5,
      "outputs": []
    },
    {
      "cell_type": "code",
      "source": [
        "# clean text\n",
        "def text_cleaning(text):\n",
        "  text = re.sub(r\"\\s+\",\" \", text) # remove extra spaces\n",
        "  text = re.sub(r\"[^a-zA-Z]\",\" \", text) # remove non-alphabets with spaces\n",
        "  text = text.lower() # lowercase\n",
        "  words = nltk.word_tokenize(text) # break into words\n",
        "  newtext = []\n",
        "  lemmatizer = WordNetLemmatizer()\n",
        "  for word in words:\n",
        "    word = lemmatizer.lemmatize(word) # group together the different inflected forms of a word\n",
        "    if word not in set(stopwords.words(\"english\")) and len(word) > 1: # remove stopwords and single character word\n",
        "      newtext.append(word)\n",
        "  text = \" \".join(newtext)\n",
        "  return text\n",
        "\n",
        "News[\"title\"] = News[\"title\"].apply(text_cleaning)"
      ],
      "metadata": {
        "id": "DDFk4izkSO8h"
      },
      "execution_count": 10,
      "outputs": []
    },
    {
      "cell_type": "code",
      "source": [
        "News.to_csv(\"/content/drive/My Drive/Colab Notebooks/Fake News Detection/News.csv\",index=False)"
      ],
      "metadata": {
        "id": "Z4gSmeUGJKNM"
      },
      "execution_count": 13,
      "outputs": []
    },
    {
      "cell_type": "code",
      "source": [
        "# EDA\n",
        "import seaborn as sns\n",
        "from wordcloud import WordCloud\n",
        "import matplotlib.pyplot as plt\n",
        "\n",
        "# whether the data is balanced\n",
        "ax = sns.countplot(x = News[\"label\"], alpha=1.0);\n",
        "counts = News[\"label\"].value_counts().values\n",
        "#ax.bar_label(container=ax.containers[0], labels = counts)\n",
        "plt.xlabel(\"label\")\n",
        "plt.ylabel(\"counts\")\n",
        "plt.title(\"The distribution of counts for fake news: 1 and true news: 0\")\n",
        "plt.show()\n",
        "plt.close()\n",
        "\n",
        "# the distribution of title length\n",
        "News[\"title_length\"] = News[\"title\"].apply(lambda x : len(x.strip().split()))\n",
        "sns.histplot(News[News[\"label\"] == 1][\"title_length\"], kde=False, label=\"Fake\", bins=20)\n",
        "sns.histplot(News[News[\"label\"] == 0][\"title_length\"], kde=False, label=\"True\", bins=20)\n",
        "plt.xlabel(\"Title Length\")\n",
        "plt.title(\"The distribution of title length of fake news: 1 and true news: 0\")\n",
        "plt.legend()\n",
        "plt.show()"
      ],
      "metadata": {
        "id": "GDKRPUOzvpKZ",
        "colab": {
          "base_uri": "https://localhost:8080/",
          "height": 573
        },
        "outputId": "057e69b1-b567-4b04-daab-b62bf79b9d6d"
      },
      "execution_count": 22,
      "outputs": [
        {
          "output_type": "display_data",
          "data": {
            "text/plain": [
              "<Figure size 432x288 with 1 Axes>"
            ],
            "image/png": "[encoded data removed]"
          },
          "metadata": {
            "needs_background": "light"
          }
        },
        {
          "output_type": "display_data",
          "data": {
            "text/plain": [
              "<Figure size 432x288 with 1 Axes>"
            ],
            "image/png": "[encoded data removed]"
          },
          "metadata": {
            "needs_background": "light"
          }
        }
      ]
    },
    {
      "cell_type": "code",
      "source": [
        "# split data for training and test\n",
        "from sklearn.model_selection import train_test_split\n",
        "X = News[\"title\"].values.tolist()\n",
        "y = News[\"label\"].values\n",
        "\n",
        "X_train, X_test, y_train, y_test = train_test_split(X, y, test_size = 0.3, random_state = 0, stratify = y)"
      ],
      "metadata": {
        "id": "ATwX29FosC9F"
      },
      "execution_count": 82,
      "outputs": []
    },
    {
      "cell_type": "code",
      "source": [
        "# Word Embeddings TF-IDF\n",
        "from sklearn.feature_extraction.text import TfidfVectorizer\n",
        "\n",
        "vectorizer = TfidfVectorizer()\n",
        "X_train_TI = vectorizer.fit_transform(X_train)\n",
        "X_test_TI = vectorizer.transform(X_test)"
      ],
      "metadata": {
        "id": "AfKMaLtLI-jb"
      },
      "execution_count": 83,
      "outputs": []
    },
    {
      "cell_type": "code",
      "source": [
        "# Chi-square test\n",
        "from sklearn.feature_selection import chi2\n",
        "\n",
        "X_features = vectorizer.get_feature_names_out()\n",
        "\n",
        "_, p = chi2(X_train_TI, y_train)\n",
        "features = pd.DataFrame({\"feature\":X_features, \"score\":1-p})\n",
        "features = features[features[\"score\"]>0.95]\n",
        "\n",
        "X_features = features[\"feature\"].tolist()"
      ],
      "metadata": {
        "id": "mBknC82KVGz6"
      },
      "execution_count": 84,
      "outputs": []
    },
    {
      "cell_type": "code",
      "source": [
        "vectorizer = TfidfVectorizer(vocabulary = X_features)\n",
        "X_train_TI = vectorizer.fit_transform(X_train)\n",
        "X_test_TI = vectorizer.transform(X_test)"
      ],
      "metadata": {
        "id": "fBYBSgk4X824"
      },
      "execution_count": 98,
      "outputs": []
    },
    {
      "cell_type": "code",
      "source": [
        "import scipy.sparse\n",
        "\n",
        "featureslist = vectorizer.vocabulary_\n",
        "X_train_final = pd.DataFrame.sparse.from_spmatrix(X_train_TI, columns = featureslist)\n",
        "X_test_final = pd.DataFrame.sparse.from_spmatrix(X_test_TI, columns = featureslist)"
      ],
      "metadata": {
        "id": "Fb3iqJYqgtUl"
      },
      "execution_count": 101,
      "outputs": []
    },
    {
      "cell_type": "code",
      "source": [
        "X_train_final.to_csv(\"/content/drive/My Drive/Colab Notebooks/Fake News Detection/X_train_TI.csv\",index=False)\n",
        "X_test_final.to_csv(\"/content/drive/My Drive/Colab Notebooks/Fake News Detection/X_test_TI.csv\",index=False)"
      ],
      "metadata": {
        "id": "fAFYBtztmGw6"
      },
      "execution_count": null,
      "outputs": []
    },
    {
      "cell_type": "code",
      "source": [
        "pd.DataFrame(y_train).to_csv(\"/content/drive/My Drive/Colab Notebooks/Fake News Detection/y_train.csv\",index=False)\n",
        "pd.DataFrame(y_test).to_csv(\"/content/drive/My Drive/Colab Notebooks/Fake News Detection/y_test.csv\",index=False)"
      ],
      "metadata": {
        "id": "5il3-xt7aWwQ"
      },
      "execution_count": 103,
      "outputs": []
    }
  ]
}