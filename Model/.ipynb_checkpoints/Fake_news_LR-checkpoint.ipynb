{
 "cells": [
  {
   "cell_type": "code",
   "execution_count": 2,
   "id": "553136ba",
   "metadata": {},
   "outputs": [],
   "source": [
    "#######################\n",
    "import numpy as np\n",
    "import matplotlib.pyplot as plt\n",
    "import pandas as pd\n",
    "import seaborn as sns\n",
    "import sklearn.metrics as metrics\n",
    "from sklearn.linear_model import Ridge, RidgeCV\n",
    "from sklearn.model_selection import LeaveOneOut, cross_val_score\n",
    "from sklearn.model_selection import train_test_split\n",
    "from sklearn.pipeline import Pipeline\n",
    "from sklearn.preprocessing import StandardScaler\n",
    "from sklearn.linear_model import LogisticRegression\n",
    "from sklearn.model_selection import GridSearchCV\n",
    "from sklearn.metrics import roc_auc_score\n",
    "from sklearn.metrics import roc_curve"
   ]
  },
  {
   "cell_type": "code",
   "execution_count": 3,
   "id": "c85d3fcd",
   "metadata": {
    "scrolled": true
   },
   "outputs": [
    {
     "name": "stdout",
     "output_type": "stream",
     "text": [
      "(31428, 2001)\n",
      "   abadi  abbas  abe  abedin  absolutely  access  accidentally  accord  \\\n",
      "0    0.0    0.0  0.0     0.0         0.0     0.0           0.0     0.0   \n",
      "1    0.0    0.0  0.0     0.0         0.0     0.0           0.0     0.0   \n",
      "2    0.0    0.0  0.0     0.0         0.0     0.0           0.0     0.0   \n",
      "3    0.0    0.0  0.0     0.0         0.0     0.0           0.0     0.0   \n",
      "4    0.0    0.0  0.0     0.0         0.0     0.0           0.0     0.0   \n",
      "\n",
      "   accuser  action  ...  yikes  young   yr  yuge  zealand  zika  zimbabwe  \\\n",
      "0      0.0     0.0  ...    0.0    0.0  0.0   0.0      0.0   0.0       0.0   \n",
      "1      0.0     0.0  ...    0.0    0.0  0.0   0.0      0.0   0.0       0.0   \n",
      "2      0.0     0.0  ...    0.0    0.0  0.0   0.0      0.0   0.0       0.0   \n",
      "3      0.0     0.0  ...    0.0    0.0  0.0   0.0      0.0   0.0       0.0   \n",
      "4      0.0     0.0  ...    0.0    0.0  0.0   0.0      0.0   0.0       0.0   \n",
      "\n",
      "   zimbabwean  zor  zuma  \n",
      "0         0.0  0.0   0.0  \n",
      "1         0.0  0.0   0.0  \n",
      "2         0.0  0.0   0.0  \n",
      "3         0.0  0.0   0.0  \n",
      "4         0.0  0.0   0.0  \n",
      "\n",
      "[5 rows x 2001 columns]\n"
     ]
    }
   ],
   "source": [
    "#######################\n",
    "#LogisticRegression\n",
    "#######################\n",
    "# Load the origin data \n",
    "X_train = pd.read_csv('X_train.csv')\n",
    "y_train = pd.read_csv('y_train.csv')\n",
    "print(X_train.shape)\n",
    "print(X_train.head())\n",
    "\n",
    "# Split the data into training set and test set\n",
    "X_train, X_test, y_train, y_test = train_test_split(X_train, y_train, test_size=0.2, random_state=0)\n",
    "\n",
    "# Scale the data\n",
    "scaler = StandardScaler()\n",
    "X_train = scaler.fit_transform(X_train)\n",
    "X_test = scaler.transform(X_test)"
   ]
  },
  {
   "cell_type": "code",
   "execution_count": 5,
   "id": "e6e10204",
   "metadata": {},
   "outputs": [
    {
     "name": "stderr",
     "output_type": "stream",
     "text": [
      "D:\\Python\\lib\\site-packages\\sklearn\\linear_model\\_logistic.py:763: ConvergenceWarning: lbfgs failed to converge (status=1):\n",
      "STOP: TOTAL NO. of ITERATIONS REACHED LIMIT.\n",
      "\n",
      "Increase the number of iterations (max_iter) or scale the data as shown in:\n",
      "    https://scikit-learn.org/stable/modules/preprocessing.html\n",
      "Please also refer to the documentation for alternative solver options:\n",
      "    https://scikit-learn.org/stable/modules/linear_model.html#logistic-regression\n",
      "  n_iter_i = _check_optimize_result(\n"
     ]
    },
    {
     "name": "stdout",
     "output_type": "stream",
     "text": [
      " Accuracy of Logistic Regression : 93.27 %\n",
      "Best parameters of Logistic Regression : {'C': 0.001, 'solver': 'newton-cg'}\n",
      "Best score of Logistic Regression : 0.9392650629530902\n"
     ]
    }
   ],
   "source": [
    "# Fitting the Logistic Regression\n",
    "LR = LogisticRegression(random_state=0)\n",
    "LR.fit(X_train, y_train.values.ravel())\n",
    "# Cross validation \n",
    "scores = cross_val_score(LR, X_train, y_train.values.ravel(), cv=5,n_jobs = -1)\n",
    "print(f\" Accuracy of Logistic Regression : {round(np.mean(scores) ,4) * 100} %\")\n",
    "# Parameter optimization \n",
    "parameters = {'C':[0.001,0.01,0.1,1,10,100,1000],'solver':['newton-cg','lbfgs','sag','saga']}\n",
    "solver = {'solver':['newton-cg','lbfgs','sag','saga']}\n",
    "LR_grid = GridSearchCV(LR,parameters,scoring='accuracy',cv=5,n_jobs = -1)\n",
    "LR_grid.fit(X_train, y_train.values.ravel())\n",
    "print(f\"Best parameters of Logistic Regression : {LR_grid.best_params_}\")\n",
    "print(f\"Best score of Logistic Regression : {LR_grid.best_score_}\")"
   ]
  },
  {
   "cell_type": "code",
   "execution_count": 6,
   "id": "d4bdfcc4",
   "metadata": {},
   "outputs": [
    {
     "name": "stdout",
     "output_type": "stream",
     "text": [
      " Accuracy of Logistic Regression : 93.99 %\n",
      " Confusion Matrix of Logistic Regression : \n",
      " [[2815  172]\n",
      " [ 206 3093]]\n",
      " Classification Report of Logistic Regression : \n",
      "               precision    recall  f1-score   support\n",
      "\n",
      "           0       0.93      0.94      0.94      2987\n",
      "           1       0.95      0.94      0.94      3299\n",
      "\n",
      "    accuracy                           0.94      6286\n",
      "   macro avg       0.94      0.94      0.94      6286\n",
      "weighted avg       0.94      0.94      0.94      6286\n",
      "\n"
     ]
    },
    {
     "data": {
      "image/png": "[encoded data removed]",
      "text/plain": [
       "<Figure size 432x288 with 2 Axes>"
      ]
     },
     "metadata": {
      "needs_background": "light"
     },
     "output_type": "display_data"
    },
    {
     "data": {
      "text/plain": [
       "<Figure size 432x288 with 0 Axes>"
      ]
     },
     "metadata": {},
     "output_type": "display_data"
    }
   ],
   "source": [
    "# Predict the test set\n",
    "y_pred = LR_grid.predict(X_test)\n",
    "# Save the y_pred to CSV\n",
    "y_pred = pd.DataFrame(y_pred)\n",
    "y_pred.to_csv('y_pred_LR.csv',index=False)\n",
    "# Evaluate the model\n",
    "print(f\" Accuracy of Logistic Regression : {round(metrics.accuracy_score(y_test, y_pred) ,4) * 100} %\")\n",
    "print(f\" Confusion Matrix of Logistic Regression : \\n {metrics.confusion_matrix(y_test, y_pred)}\")\n",
    "print(f\" Classification Report of Logistic Regression : \\n {metrics.classification_report(y_test, y_pred)}\")\n",
    "# Plot the confusion matrix\n",
    "sns.heatmap(metrics.confusion_matrix(y_test, y_pred), annot=True, fmt='d', cmap='Blues')\n",
    "plt.title('Confusion Matrix of Logistic Regression')\n",
    "plt.ylabel('True Label')\n",
    "plt.xlabel('Predicted Label')\n",
    "plt.show()\n",
    "# Save the plot\n",
    "plt.savefig('Confusion Matrix of Logistic Regression.png')"
   ]
  }
 ],
 "metadata": {
  "kernelspec": {
   "display_name": "Python 3",
   "language": "python",
   "name": "python3"
  },
  "language_info": {
   "codemirror_mode": {
    "name": "ipython",
    "version": 3
   },
   "file_extension": ".py",
   "mimetype": "text/x-python",
   "name": "python",
   "nbconvert_exporter": "python",
   "pygments_lexer": "ipython3",
   "version": "3.9.11"
  }
 },
 "nbformat": 4,
 "nbformat_minor": 5
}
